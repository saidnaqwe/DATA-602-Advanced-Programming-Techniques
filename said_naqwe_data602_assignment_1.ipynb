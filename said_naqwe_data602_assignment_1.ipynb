{
  "nbformat": 4,
  "nbformat_minor": 0,
  "metadata": {
    "colab": {
      "provenance": [],
      "authorship_tag": "ABX9TyM2U6WLNCPvGfQ1Wn1O2i1N",
      "include_colab_link": true
    },
    "kernelspec": {
      "name": "python3",
      "display_name": "Python 3"
    },
    "language_info": {
      "name": "python"
    }
  },
  "cells": [
    {
      "cell_type": "markdown",
      "metadata": {
        "id": "view-in-github",
        "colab_type": "text"
      },
      "source": [
        "<a href=\"https://colab.research.google.com/github/saidnaqwe/DATA-602-Advanced-Programming-Techniques/blob/main/said_naqwe_data602_assignment_1.ipynb\" target=\"_parent\"><img src=\"https://colab.research.google.com/assets/colab-badge.svg\" alt=\"Open In Colab\"/></a>"
      ]
    },
    {
      "cell_type": "markdown",
      "source": [
        "**Introduction**\n",
        "\n",
        "The assignment consists of three parts: fixing a Python program for calculating the average of three test scores (Q1), writing a program to calculate the areas of two rectangles (Q2), and creating a birthday message program using user input for name and age (Q3). The goal is to provide all code in one block, with detailed comments for Q1 to explain the reasoning behind each fix, while ensuring Q2 and Q3 are presented with minimal comments for clarity."
      ],
      "metadata": {
        "id": "77dF2Drudbgv"
      }
    },
    {
      "cell_type": "code",
      "execution_count": null,
      "metadata": {
        "id": "ZNphf4hHKD0U"
      },
      "outputs": [],
      "source": [
        "import numpy as np"
      ]
    },
    {
      "cell_type": "markdown",
      "source": [
        "### Q1: Fixing Errors in the Given Code  \n",
        "This program takes three test scores from the user, calculates the average, and congratulates them if they achieve a high score.I noticed a few issues in the original code, like missing a variable, incorrect input types, and a calculation error.\n"
      ],
      "metadata": {
        "id": "NhupMf6obrsp"
      }
    },
    {
      "cell_type": "code",
      "source": [
        "HIGH_SCORE = 95\n",
        "\n",
        "# Get the test scores.\n",
        "test1 = int(input('Enter the score for test 1: '))\n",
        "test2 = int(input('Enter the score for test 2: '))\n",
        "test3 = int(input('Enter the score for test 3: '))  # Added input for test3 and convert to integer\n",
        "\n",
        "# Calculate the average test score.\n",
        "average = (test1 + test2 + test3) / 3\n",
        "\n",
        "# Print the average.\n",
        "print('The average score is', average)\n",
        "\n",
        "# If the average is a high score,\n",
        "# congratulate the user.\n",
        "if average >= HIGH_SCORE:\n",
        "    print('Congratulations!')\n",
        "    print('That is a great average!')"
      ],
      "metadata": {
        "colab": {
          "base_uri": "https://localhost:8080/"
        },
        "id": "Iqk-Xc3IcLWY",
        "outputId": "a2c3c32c-6432-4c2a-a824-53f586147e16"
      },
      "execution_count": null,
      "outputs": [
        {
          "output_type": "stream",
          "name": "stdout",
          "text": [
            "Enter the score for test 1: 94\n",
            "Enter the score for test 2: 92\n",
            "Enter the score for test 3: 88\n",
            "The average score is 91.33333333333333\n"
          ]
        }
      ]
    },
    {
      "cell_type": "markdown",
      "source": [
        "Q2: Calculate and Compare the Area of Two Rectangles\n",
        "This program asks the user for the length and width of two rectangles, calculates their areas, and displays the results."
      ],
      "metadata": {
        "id": "76KxS-YNcsaX"
      }
    },
    {
      "cell_type": "code",
      "source": [
        "# Get dimensions for rectangle 1\n",
        "length1 = float(input(\"Enter the length of rectangle 1: \"))\n",
        "width1 = float(input(\"Enter the width of rectangle 1: \"))\n",
        "area1 = length1 * width1\n",
        "\n",
        "# Get dimensions for rectangle 2\n",
        "length2 = float(input(\"Enter the length of rectangle 2: \"))\n",
        "width2 = float(input(\"Enter the width of rectangle 2: \"))\n",
        "area2 = length2 * width2\n",
        "\n",
        "# Print the areas\n",
        "print(\"The area of rectangle 1 is:\", area1)\n",
        "print(\"The area of rectangle 2 is:\", area2)"
      ],
      "metadata": {
        "colab": {
          "base_uri": "https://localhost:8080/"
        },
        "id": "RrhuDwJe2UzL",
        "outputId": "11de1e60-b7ad-4df0-d9ac-a8845cf9e9b6"
      },
      "execution_count": null,
      "outputs": [
        {
          "output_type": "stream",
          "name": "stdout",
          "text": [
            "Enter the length of rectangle 1: 5\n",
            "Enter the width of rectangle 1: 2\n",
            "Enter the length of rectangle 2: 8\n",
            "Enter the width of rectangle 2: 4\n",
            "The area of rectangle 1 is: 10.0\n",
            "The area of rectangle 2 is: 32.0\n"
          ]
        }
      ]
    },
    {
      "cell_type": "markdown",
      "source": [
        "Q3: Personalized Birthday Message\n",
        "This program asks for a user’s first name and age, then prints a birthday message."
      ],
      "metadata": {
        "id": "I4rmHUTNfZpE"
      }
    },
    {
      "cell_type": "code",
      "source": [
        "name = input(\"Enter your first name: \")\n",
        "age = int(input(\"Enter your age: \"))\n",
        "\n",
        "print(f\"Happy birthday, {name}! You are {age} years old today!\")"
      ],
      "metadata": {
        "colab": {
          "base_uri": "https://localhost:8080/"
        },
        "id": "ul2D7f43fR3M",
        "outputId": "a8dc878c-c18c-4445-9ca0-64ca32d32f5a"
      },
      "execution_count": null,
      "outputs": [
        {
          "output_type": "stream",
          "name": "stdout",
          "text": [
            "Enter your first name: Said\n",
            "Enter your age: 26\n",
            "Happy birthday, Said! You are 26 years old today!\n"
          ]
        }
      ]
    },
    {
      "cell_type": "markdown",
      "source": [
        "**Summary**\n",
        "\n",
        "I fixed the errors in Q1, wrote a clear program for Q2, and created a simple user-friendly birthday message for Q3\n"
      ],
      "metadata": {
        "id": "bw_3O7WOgiek"
      }
    },
    {
      "cell_type": "code",
      "source": [],
      "metadata": {
        "id": "iyt3Jj9vgpCC"
      },
      "execution_count": null,
      "outputs": []
    }
  ]
}