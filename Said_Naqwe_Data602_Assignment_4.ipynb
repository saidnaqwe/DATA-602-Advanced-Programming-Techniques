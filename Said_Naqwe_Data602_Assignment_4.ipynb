{
  "cells": [
    {
      "cell_type": "markdown",
      "metadata": {
        "id": "view-in-github",
        "colab_type": "text"
      },
      "source": [
        "<a href=\"https://colab.research.google.com/github/saidnaqwe/DATA-602-Advanced-Programming-Techniques/blob/main/Said_Naqwe_Data602_Assignment_4.ipynb\" target=\"_parent\"><img src=\"https://colab.research.google.com/assets/colab-badge.svg\" alt=\"Open In Colab\"/></a>"
      ]
    },
    {
      "cell_type": "markdown",
      "source": [
        "**Q1: BankAccount Class**\n",
        "\n",
        "I need to make a BankAccount class with some attributes and methods. As per assignment need a bank name, first name, last name, and balance (starting at 0), plus ways to deposit, withdraw, and show my info. Here’s what I came up with:\n",
        "\n"
      ],
      "metadata": {
        "id": "uw-nwKE7q4xT"
      }
    },
    {
      "cell_type": "code",
      "source": [
        "class BankAccount:\n",
        "    def __init__(self, bankname, firstname, lastname, balance=0):\n",
        "        self.bankname = bankname\n",
        "        self.firstname = firstname\n",
        "        self.lastname = lastname\n",
        "        self.balance = balance\n",
        "\n",
        "    def deposit(self, amount):\n",
        "        self.balance += amount\n",
        "        print(f\"I just deposited ${amount}. Now I’ve got ${self.balance}.\")\n",
        "\n",
        "    def withdrawal(self, amount):\n",
        "        if amount <= self.balance:\n",
        "            self.balance -= amount\n",
        "            print(f\"I took out ${amount}. I’m left with ${self.balance}.\")\n",
        "        else:\n",
        "            print(f\"Whoops, I don’t have enough! Only got ${self.balance}.\")\n",
        "\n",
        "    def __str__(self):\n",
        "        return f\"My bank’s {self.bankname}, I’m {self.firstname} {self.lastname}, and I’ve got ${self.balance}.\"\n",
        "\n",
        "# Let’s see if it works\n",
        "my_account = BankAccount(\"Ab Seayer\", \"Said\", \"Naqwe\")\n",
        "print(my_account)\n",
        "my_account.deposit(200)\n",
        "my_account.deposit(75)\n",
        "my_account.withdrawal(50)\n",
        "my_account.withdrawal(300)  # Shouldn’t work\n",
        "print(my_account)"
      ],
      "metadata": {
        "colab": {
          "base_uri": "https://localhost:8080/"
        },
        "id": "zKhzuJTxSFnT",
        "outputId": "940b60ff-c552-4c05-b1fb-afc3ba69498f"
      },
      "execution_count": 2,
      "outputs": [
        {
          "output_type": "stream",
          "name": "stdout",
          "text": [
            "My bank’s Ab Seayer, I’m Said Naqwe, and I’ve got $0.\n",
            "I just deposited $200. Now I’ve got $200.\n",
            "I just deposited $75. Now I’ve got $275.\n",
            "I took out $50. I’m left with $225.\n",
            "Whoops, I don’t have enough! Only got $225.\n",
            "My bank’s Ab Seayer, I’m Said Naqwe, and I’ve got $225.\n"
          ]
        }
      ]
    },
    {
      "cell_type": "markdown",
      "source": [
        "**Here’s how I did it:**\n",
        "\n",
        "I set up the class with __init__ and gave it bankname, firstname, lastname, and balance. I made balance default to 0 like they said.\n",
        "\n",
        "For deposit, I add whatever I put in and show my new balance—easy money!\n",
        "\n",
        "For withdrawal, I check if I’ve got enough cash first. If I do, I subtract it; if not, I complain about being broke. That’s what they meant by a conditional, I bet.\n",
        "\n",
        "I used __str__ to print my bank info all nice and neat.\n",
        "\n",
        "I tested it with an account for me, Said Naqwe, at Ab Seayer. I tossed in 200, then 75, took out 50, and tried to grab 300 (which should fail).\n",
        "\n"
      ],
      "metadata": {
        "id": "DivYxKswSkS7"
      }
    },
    {
      "cell_type": "markdown",
      "source": [
        "**Q2: Box Class**\n",
        "\n",
        "This one’s trickier—I’ve got a Box class with a bunch of stuff to do. They want length and width, plus methods to draw it, flip it, measure it, and more. I’ll build it step by step.\n",
        "\n"
      ],
      "metadata": {
        "id": "yqnWQI6-TGlD"
      }
    },
    {
      "cell_type": "code",
      "source": [
        "import math\n",
        "\n",
        "class Box:\n",
        "    def __init__(self, length, width):\n",
        "        self.length = length\n",
        "        self.width = width\n",
        "\n",
        "    def render(self):\n",
        "        for _ in range(self.width):\n",
        "            print(\"*\" * self.length)\n",
        "\n",
        "    def invert(self):\n",
        "        self.length, self.width = self.width, self.length\n",
        "        print(\"I flipped my box—length and width swapped!\")\n",
        "\n",
        "    def get_area(self):\n",
        "        return self.length * self.width\n",
        "\n",
        "    def get_perimeter(self):\n",
        "        return 2 * (self.length + self.width)\n",
        "\n",
        "    def double(self):\n",
        "        self.length = self.length * 2\n",
        "        self.width = self.width * 2\n",
        "        return self  # Gotta return something, right?\n",
        "\n",
        "    def __eq__(self, other):\n",
        "        return self.length == other.length and self.width == other.width\n",
        "\n",
        "    def print_dim(self):\n",
        "        print(f\"My box is {self.length} long and {self.width} wide.\")\n",
        "\n",
        "    def get_dim(self):\n",
        "        return (self.length, self.width)\n",
        "\n",
        "    def combine(self, other_box):\n",
        "        self.length += other_box.length\n",
        "        self.width += other_box.width\n",
        "        print(f\"I smashed another box into mine—check my new size!\")\n",
        "\n",
        "    def get_hypot(self):\n",
        "        return math.sqrt(self.length**2 + self.width**2)\n",
        "\n",
        "# Time to test it\n",
        "box1 = Box(5, 10)\n",
        "box2 = Box(3, 4)\n",
        "box3 = Box(5, 10)\n",
        "\n",
        "# Show my boxes\n",
        "print(\"Here’s box1:\")\n",
        "box1.print_dim()\n",
        "print(\"Here’s box2:\")\n",
        "box2.print_dim()\n",
        "print(\"Here’s box3:\")\n",
        "box3.print_dim()\n",
        "\n",
        "# Are they the same?\n",
        "print(\"\\nIs box1 the same as box2?\")\n",
        "print(box1 == box2)\n",
        "print(\"What about box1 and box3?\")\n",
        "print(box1 == box3)\n",
        "\n",
        "# Mix box3 into box1\n",
        "box1.combine(box3)\n",
        "box1.print_dim()\n",
        "\n",
        "# Double box2\n",
        "box2.double()\n",
        "print(\"I doubled box2:\")\n",
        "box2.print_dim()\n",
        "\n",
        "# Smash box2 into box1\n",
        "box1.combine(box2)\n",
        "print(\"Now box1 after adding box2:\")\n",
        "box1.print_dim()"
      ],
      "metadata": {
        "colab": {
          "base_uri": "https://localhost:8080/"
        },
        "id": "DsTPkKZpTKUK",
        "outputId": "7ee33198-64e3-42a4-c6a8-7925bbf15055"
      },
      "execution_count": 3,
      "outputs": [
        {
          "output_type": "stream",
          "name": "stdout",
          "text": [
            "Here’s box1:\n",
            "My box is 5 long and 10 wide.\n",
            "Here’s box2:\n",
            "My box is 3 long and 4 wide.\n",
            "Here’s box3:\n",
            "My box is 5 long and 10 wide.\n",
            "\n",
            "Is box1 the same as box2?\n",
            "False\n",
            "What about box1 and box3?\n",
            "True\n",
            "I smashed another box into mine—check my new size!\n",
            "My box is 10 long and 20 wide.\n",
            "I doubled box2:\n",
            "My box is 6 long and 8 wide.\n",
            "I smashed another box into mine—check my new size!\n",
            "Now box1 after adding box2:\n",
            "My box is 16 long and 28 wide.\n"
          ]
        }
      ]
    },
    {
      "cell_type": "markdown",
      "source": [
        "**Here’s what I figured out:**\n",
        "\n",
        "I started with length and width in __init__—simple enough.\n",
        "\n",
        "For render, I print a row of stars length times, width rows deep. I didn’t print it in the test since they didn’t ask, but it’d work!\n",
        "\n",
        "invert swaps my dimensions—I added a message to see it happen, but I’ll skip that in the final run.\n",
        "\n",
        "get_area is length times width, and get_perimeter is 2 times the sum—math class flashback!\n",
        "\n",
        "double doubles both sides. I returned self because they hinted at a return value, maybe for chaining.\n",
        "\n",
        "__eq__ checks if two boxes match—same length and width.\n",
        "\n",
        "print_dim shows my sizes, and get_dim gives them as a tuple.\n",
        "\n",
        "combine adds another box’s sizes to mine—I threw in a fun message.\n",
        "\n",
        "get_hypot finds the diagonal with that square root trick—I needed math for it.\n",
        "\n"
      ],
      "metadata": {
        "id": "YVQk3FBiTY-6"
      }
    }
  ],
  "metadata": {
    "colab": {
      "provenance": [],
      "authorship_tag": "ABX9TyO/ALssYkV7aO6c9RX6Sfcs",
      "include_colab_link": true
    },
    "kernelspec": {
      "display_name": "Python 3",
      "name": "python3"
    },
    "language_info": {
      "name": "python"
    }
  },
  "nbformat": 4,
  "nbformat_minor": 0
}